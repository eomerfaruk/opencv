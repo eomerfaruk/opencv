{
 "cells": [
  {
   "cell_type": "code",
   "execution_count": 7,
   "metadata": {},
   "outputs": [],
   "source": [
    "import cv2 \n",
    "import numpy as np \n",
    "from matplotlib import pyplot as plt"
   ]
  },
  {
   "cell_type": "code",
   "execution_count": 8,
   "metadata": {},
   "outputs": [],
   "source": [
    "vid = cv2.VideoCapture(\"4.2 traffic.avi.avi\")"
   ]
  },
  {
   "cell_type": "code",
   "execution_count": 9,
   "metadata": {},
   "outputs": [],
   "source": [
    "backsub = cv2.createBackgroundSubtractorMOG2()"
   ]
  },
  {
   "cell_type": "code",
   "execution_count": 10,
   "metadata": {},
   "outputs": [],
   "source": [
    "c = 0"
   ]
  },
  {
   "cell_type": "code",
   "execution_count": null,
   "metadata": {},
   "outputs": [],
   "source": [
    "while 1:\n",
    "    ret , frame = vid.read()\n",
    "    if ret:\n",
    "        \n",
    "        fgmaks = backsub.apply(frame) #  giriş görüntüsünden arka planı çıkarır ve ön plandaki nesneleri  tespit eder.\n",
    "                                        #cıkıs görüntüsü tek kanallı (gray) yapıda olur\n",
    "        cv2.line(frame, (50,0),(50,300),(0,255,0),2)\n",
    "        cv2.line(frame  , (70,0),(70,300),(0,255,0),2)\n",
    "        \n",
    "        contours , hierarchy = cv2.findContours(fgmaks , cv2.RETR_TREE , cv2.CHAIN_APPROX_SIMPLE) \n",
    "        \n",
    "        try : \n",
    "            hierarchy = hierarchy[0]\n",
    "        except:\n",
    "            hierarchy = []\n",
    "        \n",
    "        for contour , hier in zip(contours , hierarchy):\n",
    "            \n",
    "            (x,y ,w,h) =  cv2.boundingRect(contour) # contour'u kapsayan kucuk dikdortgenı hesaplar\n",
    "            \n",
    "            if w > 40  and h > 40: # görüntüdeki aracları alabilmek için \n",
    "                \n",
    "                cv2.rectangle(frame ,(x,y) , (x+w,y+h) ,(0,255,0) , 2)\n",
    "                \n",
    "                if x >50 and x< 70:\n",
    "                    c = c+1\n",
    "                    \n",
    "        cv2.putText(frame , \"car: \"+str(c),(90,100) ,cv2.FONT_HERSHEY_SIMPLEX  ,2 , (0,255,0) , 2 ,cv2.LINE_AA)\n",
    "        \n",
    "        cv2.imshow(\"frame\" ,frame)\n",
    "        cv2.imshow(\"img\",fgmaks)\n",
    "        \n",
    "        if cv2.waitKey(20) & 0xFF == ord(\"q\"):\n",
    "            break\n",
    "vid.release()\n",
    "cv2.destroyAllWindows()    "
   ]
  },
  {
   "cell_type": "code",
   "execution_count": null,
   "metadata": {},
   "outputs": [],
   "source": []
  }
 ],
 "metadata": {
  "kernelspec": {
   "display_name": "Python 3",
   "language": "python",
   "name": "python3"
  },
  "language_info": {
   "codemirror_mode": {
    "name": "ipython",
    "version": 3
   },
   "file_extension": ".py",
   "mimetype": "text/x-python",
   "name": "python",
   "nbconvert_exporter": "python",
   "pygments_lexer": "ipython3",
   "version": "3.11.4"
  }
 },
 "nbformat": 4,
 "nbformat_minor": 2
}
