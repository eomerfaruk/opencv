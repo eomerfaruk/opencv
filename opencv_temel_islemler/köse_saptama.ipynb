{
 "cells": [
  {
   "cell_type": "code",
   "execution_count": 6,
   "metadata": {},
   "outputs": [],
   "source": [
    "import numpy as np \n",
    "import cv2 \n",
    "from matplotlib import pyplot as plt"
   ]
  },
  {
   "cell_type": "code",
   "execution_count": 7,
   "metadata": {},
   "outputs": [
    {
     "data": {
      "text/plain": [
       "<matplotlib.image.AxesImage at 0x1ce6ff567d0>"
      ]
     },
     "execution_count": 7,
     "metadata": {},
     "output_type": "execute_result"
    },
    {
     "data": {
      "image/png": "[encoded data removed]",
      "text/plain": [
       "<Figure size 640x480 with 1 Axes>"
      ]
     },
     "metadata": {},
     "output_type": "display_data"
    }
   ],
   "source": [
    "img = cv2.imread(\"15.2 contour.png.png\")\n",
    "plt.imshow(img)"
   ]
  },
  {
   "cell_type": "code",
   "execution_count": 8,
   "metadata": {},
   "outputs": [],
   "source": [
    "img_text = cv2.imread(\"15.1 text.png.png\")"
   ]
  },
  {
   "cell_type": "code",
   "execution_count": 9,
   "metadata": {},
   "outputs": [],
   "source": [
    "gray = cv2.cvtColor(img_text, cv2.COLOR_BGR2GRAY)"
   ]
  },
  {
   "cell_type": "code",
   "execution_count": 12,
   "metadata": {},
   "outputs": [],
   "source": [
    "gray = np.float32(gray)"
   ]
  },
  {
   "cell_type": "code",
   "execution_count": 13,
   "metadata": {},
   "outputs": [],
   "source": [
    "corners = cv2.goodFeaturesToTrack(gray , 50 , 0.01 ,10) # görüntüdeki köşeleri bulur"
   ]
  },
  {
   "cell_type": "code",
   "execution_count": 14,
   "metadata": {},
   "outputs": [
    {
     "data": {
      "text/plain": [
       "array([[[ 71.,  82.]],\n",
       "\n",
       "       [[501.,  92.]],\n",
       "\n",
       "       [[594.,  72.]],\n",
       "\n",
       "       [[234.,  84.]],\n",
       "\n",
       "       [[ 78., 121.]],\n",
       "\n",
       "       [[519., 106.]],\n",
       "\n",
       "       [[625.,  72.]],\n",
       "\n",
       "       [[391.,  97.]],\n",
       "\n",
       "       [[278.,  97.]],\n",
       "\n",
       "       [[515.,  92.]],\n",
       "\n",
       "       [[ 95.,  82.]],\n",
       "\n",
       "       [[589., 104.]],\n",
       "\n",
       "       [[376.,  85.]],\n",
       "\n",
       "       [[263.,  85.]],\n",
       "\n",
       "       [[308.,  86.]],\n",
       "\n",
       "       [[181.,  86.]],\n",
       "\n",
       "       [[123.,  86.]],\n",
       "\n",
       "       [[324., 108.]],\n",
       "\n",
       "       [[197., 108.]],\n",
       "\n",
       "       [[354.,  84.]],\n",
       "\n",
       "       [[106., 100.]],\n",
       "\n",
       "       [[323.,  97.]],\n",
       "\n",
       "       [[196.,  97.]],\n",
       "\n",
       "       [[469., 109.]],\n",
       "\n",
       "       [[391., 109.]],\n",
       "\n",
       "       [[278., 109.]],\n",
       "\n",
       "       [[468.,  84.]],\n",
       "\n",
       "       [[534.,  83.]],\n",
       "\n",
       "       [[340.,  82.]],\n",
       "\n",
       "       [[213.,  82.]],\n",
       "\n",
       "       [[153.,  82.]],\n",
       "\n",
       "       [[136.,  82.]],\n",
       "\n",
       "       [[530., 109.]],\n",
       "\n",
       "       [[340., 109.]],\n",
       "\n",
       "       [[213., 109.]],\n",
       "\n",
       "       [[151., 108.]],\n",
       "\n",
       "       [[297., 109.]],\n",
       "\n",
       "       [[297.,  69.]],\n",
       "\n",
       "       [[549., 109.]],\n",
       "\n",
       "       [[362., 109.]],\n",
       "\n",
       "       [[252., 109.]],\n",
       "\n",
       "       [[ 62.,  72.]],\n",
       "\n",
       "       [[362.,  69.]],\n",
       "\n",
       "       [[231., 109.]],\n",
       "\n",
       "       [[170., 109.]],\n",
       "\n",
       "       [[170.,  69.]],\n",
       "\n",
       "       [[464., 121.]],\n",
       "\n",
       "       [[ 37.,  72.]],\n",
       "\n",
       "       [[610., 103.]],\n",
       "\n",
       "       [[ 83., 103.]]], dtype=float32)"
      ]
     },
     "execution_count": 14,
     "metadata": {},
     "output_type": "execute_result"
    }
   ],
   "source": [
    "corners"
   ]
  },
  {
   "cell_type": "code",
   "execution_count": 24,
   "metadata": {},
   "outputs": [
    {
     "data": {
      "text/plain": [
       "(50, 1, 2)"
      ]
     },
     "execution_count": 24,
     "metadata": {},
     "output_type": "execute_result"
    }
   ],
   "source": [
    "corners.shape"
   ]
  },
  {
   "cell_type": "code",
   "execution_count": 25,
   "metadata": {},
   "outputs": [
    {
     "data": {
      "text/plain": [
       "array([ 71,  82, 501,  92, 594,  72, 234,  84,  78, 121, 519, 106, 625,\n",
       "        72, 391,  97, 278,  97, 515,  92,  95,  82, 589, 104, 376,  85,\n",
       "       263,  85, 308,  86, 181,  86, 123,  86, 324, 108, 197, 108, 354,\n",
       "        84, 106, 100, 323,  97, 196,  97, 469, 109, 391, 109, 278, 109,\n",
       "       468,  84, 534,  83, 340,  82, 213,  82, 153,  82, 136,  82, 530,\n",
       "       109, 340, 109, 213, 109, 151, 108, 297, 109, 297,  69, 549, 109,\n",
       "       362, 109, 252, 109,  62,  72, 362,  69, 231, 109, 170, 109, 170,\n",
       "        69, 464, 121,  37,  72, 610, 103,  83, 103], dtype=int64)"
      ]
     },
     "execution_count": 25,
     "metadata": {},
     "output_type": "execute_result"
    }
   ],
   "source": [
    "corners.ravel()"
   ]
  },
  {
   "cell_type": "code",
   "execution_count": 26,
   "metadata": {},
   "outputs": [
    {
     "data": {
      "text/plain": [
       "(100,)"
      ]
     },
     "execution_count": 26,
     "metadata": {},
     "output_type": "execute_result"
    }
   ],
   "source": [
    "corners.ravel().shape"
   ]
  },
  {
   "cell_type": "code",
   "execution_count": 27,
   "metadata": {},
   "outputs": [
    {
     "name": "stdout",
     "output_type": "stream",
     "text": [
      "71 82\n",
      "501 92\n",
      "594 72\n",
      "234 84\n",
      "78 121\n",
      "519 106\n",
      "625 72\n",
      "391 97\n",
      "278 97\n",
      "515 92\n",
      "95 82\n",
      "589 104\n",
      "376 85\n",
      "263 85\n",
      "308 86\n",
      "181 86\n",
      "123 86\n",
      "324 108\n",
      "197 108\n",
      "354 84\n",
      "106 100\n",
      "323 97\n",
      "196 97\n",
      "469 109\n",
      "391 109\n",
      "278 109\n",
      "468 84\n",
      "534 83\n",
      "340 82\n",
      "213 82\n",
      "153 82\n",
      "136 82\n",
      "530 109\n",
      "340 109\n",
      "213 109\n",
      "151 108\n",
      "297 109\n",
      "297 69\n",
      "549 109\n",
      "362 109\n",
      "252 109\n",
      "62 72\n",
      "362 69\n",
      "231 109\n",
      "170 109\n",
      "170 69\n",
      "464 121\n",
      "37 72\n",
      "610 103\n",
      "83 103\n"
     ]
    }
   ],
   "source": [
    "for corner in corners:\n",
    "    x,y = corner.ravel()\n",
    "    print(x,y)"
   ]
  },
  {
   "cell_type": "code",
   "execution_count": null,
   "metadata": {},
   "outputs": [
    {
     "name": "stderr",
     "output_type": "stream",
     "text": [
      "C:\\Users\\ibrah\\AppData\\Local\\Temp\\ipykernel_17288\\929114271.py:1: DeprecationWarning: `np.int0` is a deprecated alias for `np.intp`.  (Deprecated NumPy 1.24)\n",
      "  corners = np.int0(corners)\n"
     ]
    }
   ],
   "source": [
    "corners = np.int0(corners) # görüntü üzerinde cizim yaparken integer olmalı"
   ]
  },
  {
   "cell_type": "code",
   "execution_count": 21,
   "metadata": {},
   "outputs": [],
   "source": [
    "for corner in corners:\n",
    "    x,y = corner.ravel()\n",
    "    cv2.circle(img_text,(x,y) ,3,(0,0,255) , -1)"
   ]
  },
  {
   "cell_type": "code",
   "execution_count": 23,
   "metadata": {},
   "outputs": [
    {
     "data": {
      "text/plain": [
       "<matplotlib.image.AxesImage at 0x1ce73810990>"
      ]
     },
     "execution_count": 23,
     "metadata": {},
     "output_type": "execute_result"
    },
    {
     "data": {
      "image/png": "[encoded data removed]",
      "text/plain": [
       "<Figure size 640x480 with 1 Axes>"
      ]
     },
     "metadata": {},
     "output_type": "display_data"
    }
   ],
   "source": [
    "plt.imshow(img_text)"
   ]
  },
  {
   "cell_type": "code",
   "execution_count": null,
   "metadata": {},
   "outputs": [],
   "source": []
  }
 ],
 "metadata": {
  "kernelspec": {
   "display_name": "Python 3",
   "language": "python",
   "name": "python3"
  },
  "language_info": {
   "codemirror_mode": {
    "name": "ipython",
    "version": 3
   },
   "file_extension": ".py",
   "mimetype": "text/x-python",
   "name": "python",
   "nbconvert_exporter": "python",
   "pygments_lexer": "ipython3",
   "version": "3.11.4"
  }
 },
 "nbformat": 4,
 "nbformat_minor": 2
}
