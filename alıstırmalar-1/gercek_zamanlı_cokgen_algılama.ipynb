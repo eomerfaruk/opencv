{
 "cells": [
  {
   "cell_type": "code",
   "execution_count": 1,
   "metadata": {},
   "outputs": [],
   "source": [
    "import numpy as np \n",
    "import cv2 \n",
    "from matplotlib import pyplot as plt "
   ]
  },
  {
   "cell_type": "code",
   "execution_count": 2,
   "metadata": {},
   "outputs": [],
   "source": [
    "def nothing (x):\n",
    "    pass"
   ]
  },
  {
   "cell_type": "code",
   "execution_count": 3,
   "metadata": {},
   "outputs": [],
   "source": [
    "vid = cv2.VideoCapture(0)"
   ]
  },
  {
   "cell_type": "code",
   "execution_count": null,
   "metadata": {},
   "outputs": [
    {
     "data": {
      "text/plain": [
       "'\\ncv2.namedWindow(\"Setting\")\\n\\ncv2.createTrackbar(\"Lower_Hue\",\"Setting\" ,0 ,180,nothing)\\ncv2.createTrackbar(\"Lower_Saturation\",\"Setting\" ,0 ,255,nothing)\\ncv2.createTrackbar(\"Lower_Value\",\"Setting\" ,0 ,255,nothing)\\ncv2.createTrackbar(\"Upper_Hue\",\"Setting\" ,0 ,180,nothing)\\ncv2.createTrackbar(\"Upper_Saturation\",\"Setting\" ,0 ,255,nothing)\\ncv2.createTrackbar(\"Upper_Value\",\"Setting\" ,0 ,255,nothing)\\n\\nfont = cv2.FONT_HERSHEY_SIMPLEX\\nwhile 1:\\n    _ , frame = vid.read()\\n    \\n    hsv = cv2.cvtColor(frame , cv2.COLOR_BGR2HSV)\\n    \\n    lh = cv2.getTrackbarPos(\"Lower_Hue\",\"Setting\") \\n    ls = cv2.getTrackbarPos(\"Lower_Saturation\",\"Setting\") \\n    lv = cv2.getTrackbarPos(\"Lower_Value\",\"Setting\") \\n    uh = cv2.getTrackbarPos(\"Upper_Hue\",\"Setting\") \\n    us = cv2.getTrackbarPos(\"Upper_Saturation\",\"Setting\") \\n    uv = cv2.getTrackbarPos(\"Upper_Value\",\"Setting\") \\n    \\n    lower_color = np.array([lh,ls,lv])\\n    upper_color = np.array([uh,us,uv])\\n    \\n    mask = cv2.inRange(hsv , lower_color , upper_color)\\n    \\n    cv2.imshow(\"frame\" , frame)\\n    cv2.imshow(\"mask\" , mask)\\n    \\n    \\n    if cv2.watiKey(3) & 0xFF == ord(\"q\"):\\n        break\\n\\nvid.release()\\ncv2.destroyAllWindows()    '"
      ]
     },
     "execution_count": 2,
     "metadata": {},
     "output_type": "execute_result"
    }
   ],
   "source": [
    "\n",
    "cv2.namedWindow(\"Setting\")\n",
    "\n",
    "cv2.createTrackbar(\"Lower_Hue\",\"Setting\" ,0 ,180,nothing)\n",
    "cv2.createTrackbar(\"Lower_Saturation\",\"Setting\" ,0 ,255,nothing)\n",
    "cv2.createTrackbar(\"Lower_Value\",\"Setting\" ,0 ,255,nothing)\n",
    "cv2.createTrackbar(\"Upper_Hue\",\"Setting\" ,0 ,180,nothing)\n",
    "cv2.createTrackbar(\"Upper_Saturation\",\"Setting\" ,0 ,255,nothing)\n",
    "cv2.createTrackbar(\"Upper_Value\",\"Setting\" ,0 ,255,nothing)\n",
    "\n",
    "font = cv2.FONT_HERSHEY_SIMPLEX\n",
    "while 1:\n",
    "    _ , frame = vid.read()\n",
    "    \n",
    "    hsv = cv2.cvtColor(frame , cv2.COLOR_BGR2HSV)\n",
    "    \n",
    "    lh = cv2.getTrackbarPos(\"Lower_Hue\",\"Setting\") \n",
    "    ls = cv2.getTrackbarPos(\"Lower_Saturation\",\"Setting\") \n",
    "    lv = cv2.getTrackbarPos(\"Lower_Value\",\"Setting\") \n",
    "    uh = cv2.getTrackbarPos(\"Upper_Hue\",\"Setting\") \n",
    "    us = cv2.getTrackbarPos(\"Upper_Saturation\",\"Setting\") \n",
    "    uv = cv2.getTrackbarPos(\"Upper_Value\",\"Setting\") \n",
    "    \n",
    "    lower_color = np.array([lh,ls,lv])\n",
    "    upper_color = np.array([uh,us,uv])\n",
    "    \n",
    "    mask = cv2.inRange(hsv , lower_color , upper_color)\n",
    "    \n",
    "    # görüntüde oluşan benekleri engellemek için  kernel oluşturup görüntüye  uyguladık\n",
    "    kernel = np.ones((5,5) , np.uint8)\n",
    "    mask = cv2.erode(mask  ,kernel) \n",
    "    \n",
    "    # contourlar\n",
    "    contours , _ = cv2.findContours(mask , cv2.RETR_TREE , cv2.CHAIN_APPROX_SIMPLE)\n",
    "    \n",
    "    for cnt in contours:\n",
    "        area = cv2.ContourArea(cnt) # contourların alanı hesaplanıp değişkene atanır\n",
    "        epsilon = 0.02 * cv2.arcLength(cnt , True)\n",
    "        approx = cv2.approxPolyDP(cnt , epsilon) #contourlara yaklaışlır\n",
    "        \n",
    "        # contourların ilk basladığı yerler\n",
    "        x = approx.ravel()[0] \n",
    "        y = approx.ravel()[1]\n",
    "        \n",
    "        if area > 400:\n",
    "            cv2.drawContours(frame , [approx], 0,(0,0,255,5 ))\n",
    "\n",
    "            if len(approx) == 3: # contourun 3 kösesi varsa\n",
    "                cv2.putText(frame , \"Triangle\" , (x,y) , font,1,(0,0,0))\n",
    "                \n",
    "            if len(approx) == 4:\n",
    "                cv2.putText(frame , \"Rectangle\" , (x,y) , font,1,(0,0,0))    \n",
    "                \n",
    "            if len(approx) > 6: \n",
    "                cv2.putText(frame , \"Circle\" , (x,y) , font,1,(0,0,0))   \n",
    "                \n",
    "                       \n",
    "    cv2.imshow(\"frame\" , frame)\n",
    "    cv2.imshow(\"mask\" , mask)\n",
    "    \n",
    "    \n",
    "    if cv2.watiKey(3) & 0xFF == ord(\"q\"):\n",
    "        break\n",
    "\n",
    "vid.release()\n",
    "cv2.destroyAllWindows()   "
   ]
  },
  {
   "cell_type": "code",
   "execution_count": null,
   "metadata": {},
   "outputs": [],
   "source": []
  },
  {
   "cell_type": "code",
   "execution_count": null,
   "metadata": {},
   "outputs": [],
   "source": []
  }
 ],
 "metadata": {
  "kernelspec": {
   "display_name": "Python 3",
   "language": "python",
   "name": "python3"
  },
  "language_info": {
   "codemirror_mode": {
    "name": "ipython",
    "version": 3
   },
   "file_extension": ".py",
   "mimetype": "text/x-python",
   "name": "python",
   "nbconvert_exporter": "python",
   "pygments_lexer": "ipython3",
   "version": "3.11.4"
  }
 },
 "nbformat": 4,
 "nbformat_minor": 2
}
