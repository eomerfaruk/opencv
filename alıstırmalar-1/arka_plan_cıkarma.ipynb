{
 "cells": [
  {
   "cell_type": "code",
   "execution_count": 2,
   "metadata": {},
   "outputs": [],
   "source": [
    "import numpy as np \n",
    "import cv2 \n",
    "from matplotlib import pyplot as plt "
   ]
  },
  {
   "cell_type": "code",
   "execution_count": 3,
   "metadata": {},
   "outputs": [],
   "source": [
    "vid = cv2.VideoCapture(\"5.1 car.mp4 (1).mp4\")\n",
    "_ , first_frame = vid.read()\n",
    "first_gray = cv2.cvtColor(first_frame , cv2.COLOR_BGR2GRAY)\n",
    "first_gray = cv2.GaussianBlur(first_gray ,(5,5) , 0)\n"
   ]
  },
  {
   "cell_type": "code",
   "execution_count": 4,
   "metadata": {},
   "outputs": [],
   "source": [
    "while 1:\n",
    "    \n",
    "    _ , frame = vid.read()\n",
    "    gray = cv2.cvtColor(frame , cv2.COLOR_BGR2GRAY)\n",
    "    gray = cv2.GaussianBlur(gray ,(5,5) , 0)\n",
    "    \n",
    "    diff = cv2.absdiff(first_gray , gray)\n",
    "    \n",
    "    _, diff = cv2.threshold(diff,25 , 255 , cv2.THRESH_BINARY)\n",
    "    \n",
    "    \n",
    "    cv2.imshow(\"frame\",frame)\n",
    "    cv2.imshow(\"first_frame\",first_frame)\n",
    "    cv2.imshow(\"diff\",diff)\n",
    "    \n",
    "    if cv2.waitKey(20) & 0xFF == ord(\"q\"):\n",
    "        break\n",
    "    \n",
    "vid.release()\n",
    "cv2.destroyAllWindows()"
   ]
  },
  {
   "cell_type": "code",
   "execution_count": null,
   "metadata": {},
   "outputs": [],
   "source": []
  }
 ],
 "metadata": {
  "kernelspec": {
   "display_name": "Python 3",
   "language": "python",
   "name": "python3"
  },
  "language_info": {
   "codemirror_mode": {
    "name": "ipython",
    "version": 3
   },
   "file_extension": ".py",
   "mimetype": "text/x-python",
   "name": "python",
   "nbconvert_exporter": "python",
   "pygments_lexer": "ipython3",
   "version": "3.11.4"
  }
 },
 "nbformat": 4,
 "nbformat_minor": 2
}
