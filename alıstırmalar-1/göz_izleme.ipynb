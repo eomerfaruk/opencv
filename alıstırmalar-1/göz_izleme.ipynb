{
 "cells": [
  {
   "cell_type": "code",
   "execution_count": 26,
   "metadata": {},
   "outputs": [],
   "source": [
    "import cv2 \n",
    "import numpy as np \n",
    "from matplotlib import pyplot as plt "
   ]
  },
  {
   "cell_type": "code",
   "execution_count": 27,
   "metadata": {},
   "outputs": [],
   "source": [
    "vid = cv2.VideoCapture(\"15.1 eye_motion.mp4 (2).mp4\")"
   ]
  },
  {
   "cell_type": "code",
   "execution_count": null,
   "metadata": {},
   "outputs": [],
   "source": [
    "while 1:\n",
    "    ret , frame = vid.read()\n",
    "    if ret is False:\n",
    "        break\n",
    "    \n",
    "    roi = frame[80:210,230:450] # frame in belirli bir alanın kopyası alındı\n",
    "    rows,cols , channel = roi.shape\n",
    "    gray = cv2.cvtColor(roi , cv2.COLOR_BGR2GRAY)\n",
    "    _ , threshold = cv2.threshold(gray ,10 , 255, cv2.THRESH_BINARY)\n",
    "    \n",
    "    contours , _ = cv2.findContours(threshold , cv2.RETR_TREE , cv2.CHAIN_APPROX_SIMPLE) \n",
    "    \n",
    "    contours = sorted(contours , key = lambda x: cv2.contourArea(x))  # dkonturların alanlarını küçükten büyüğe doğru sıralar       \n",
    "    \n",
    "    for cnt in contours:\n",
    "        #en büyük alana sahip kontur kordinat değerleri alınır bu değerlerle kare cizilir\n",
    "        # ve döngüden cıkılır\n",
    "        (x,y,w,h) = cv2.boundingRect(cnt) # bir konturu çevreleyen en küçük dikdörtgeni bulur\n",
    "        cv2.rectangle(roi , (x,y),(x+w,y+h),(255,0,0),2)\n",
    "        cv2.line(roi,(x+int(w/2),0) , (x+ int(w / 2) , rows) , (0,255,0) ,2)\n",
    "        cv2.line( roi, (0 , y+int(h/2)) , (cols,y+int(h/2)),(0,255,0),2 )\n",
    "        break \n",
    "    \n",
    "    cv2.imshow(\"frame\" , frame)\n",
    "    \n",
    "    if cv2.waitKey(50) & 0xFF == ord(\"q\"):\n",
    "        break\n",
    "    \n",
    "vid.release()\n",
    "cv2.destroyAllWindows()\n",
    "    \n",
    "    "
   ]
  },
  {
   "cell_type": "code",
   "execution_count": null,
   "metadata": {},
   "outputs": [],
   "source": []
  }
 ],
 "metadata": {
  "kernelspec": {
   "display_name": "Python 3",
   "language": "python",
   "name": "python3"
  },
  "language_info": {
   "codemirror_mode": {
    "name": "ipython",
    "version": 3
   },
   "file_extension": ".py",
   "mimetype": "text/x-python",
   "name": "python",
   "nbconvert_exporter": "python",
   "pygments_lexer": "ipython3",
   "version": "3.11.4"
  }
 },
 "nbformat": 4,
 "nbformat_minor": 2
}
