{
 "cells": [
  {
   "cell_type": "code",
   "execution_count": 1,
   "metadata": {},
   "outputs": [],
   "source": [
    "import cv2 \n",
    "import numpy as np \n",
    "from matplotlib import pyplot as plt "
   ]
  },
  {
   "cell_type": "code",
   "execution_count": 2,
   "metadata": {},
   "outputs": [],
   "source": [
    "def nothing(x):\n",
    "    pass"
   ]
  },
  {
   "cell_type": "code",
   "execution_count": null,
   "metadata": {},
   "outputs": [
    {
     "ename": "error",
     "evalue": "OpenCV(4.10.0) D:\\a\\opencv-python\\opencv-python\\opencv\\modules\\imgproc\\src\\resize.cpp:4152: error: (-215:Assertion failed) !ssize.empty() in function 'cv::resize'\n",
     "output_type": "error",
     "traceback": [
      "\u001b[1;31m---------------------------------------------------------------------------\u001b[0m",
      "\u001b[1;31merror\u001b[0m                                     Traceback (most recent call last)",
      "Cell \u001b[1;32mIn[4], line 15\u001b[0m\n\u001b[0;32m     12\u001b[0m \u001b[38;5;28;01mwhile\u001b[39;00m \u001b[38;5;241m1\u001b[39m:\n\u001b[0;32m     14\u001b[0m     _ , frame \u001b[38;5;241m=\u001b[39m vid\u001b[38;5;241m.\u001b[39mread()\n\u001b[1;32m---> 15\u001b[0m     frame \u001b[38;5;241m=\u001b[39m \u001b[43mcv2\u001b[49m\u001b[38;5;241;43m.\u001b[39;49m\u001b[43mresize\u001b[49m\u001b[43m(\u001b[49m\u001b[43mframe\u001b[49m\u001b[43m,\u001b[49m\u001b[43m \u001b[49m\u001b[43m(\u001b[49m\u001b[38;5;241;43m640\u001b[39;49m\u001b[43m,\u001b[49m\u001b[38;5;241;43m480\u001b[39;49m\u001b[43m)\u001b[49m\u001b[43m)\u001b[49m\n\u001b[0;32m     16\u001b[0m     hsv \u001b[38;5;241m=\u001b[39m cv2\u001b[38;5;241m.\u001b[39mcvtColor(frame , cv2\u001b[38;5;241m.\u001b[39mCOLOR_BGR2HSV)\n\u001b[0;32m     18\u001b[0m     \u001b[38;5;66;03m#kızaklardan veriler alınır\u001b[39;00m\n",
      "\u001b[1;31merror\u001b[0m: OpenCV(4.10.0) D:\\a\\opencv-python\\opencv-python\\opencv\\modules\\imgproc\\src\\resize.cpp:4152: error: (-215:Assertion failed) !ssize.empty() in function 'cv::resize'\n"
     ]
    },
    {
     "ename": "",
     "evalue": "",
     "output_type": "error",
     "traceback": [
      "\u001b[1;31mThe Kernel crashed while executing code in the current cell or a previous cell. \n",
      "\u001b[1;31mPlease review the code in the cell(s) to identify a possible cause of the failure. \n",
      "\u001b[1;31mClick <a href='https://aka.ms/vscodeJupyterKernelCrash'>here</a> for more info. \n",
      "\u001b[1;31mView Jupyter <a href='command:jupyter.viewOutput'>log</a> for further details."
     ]
    }
   ],
   "source": [
    "vid = cv2.VideoCapture(\"7.1 hsv.mp4 (2).mp4\")\n",
    "\n",
    "#TRACKBAR PENVCERESİ ACILDI\n",
    "cv2.namedWindow(\"TrackBar\")\n",
    "# penceredeki kızaklar oluşturuldu\n",
    "cv2.createTrackbar(\"LH\",\"TrackBar\" ,0,179,nothing )\n",
    "cv2.createTrackbar(\"LS\",\"TrackBar\",0,255,nothing)\n",
    "cv2.createTrackbar(\"LV\",\"TrackBar\",0,255,nothing)\n",
    "cv2.createTrackbar(\"UH\",\"TrackBar\",0,179,nothing)\n",
    "cv2.createTrackbar(\"US\",\"TrackBar\",0,255,nothing)\n",
    "cv2.createTrackbar(\"UV\",\"TrackBar\",0,255,nothing)\n",
    "while 1:\n",
    "    \n",
    "    _ , frame = vid.read()\n",
    "    frame = cv2.resize(frame, (640,480))\n",
    "    hsv = cv2.cvtColor(frame , cv2.COLOR_BGR2HSV)\n",
    "    \n",
    "    #kızaklardan veriler alınır\n",
    "    lh = cv2.getTrackbarPos(\"LH\",\"TrackBar\")\n",
    "    ls = cv2.getTrackbarPos(\"LS\",\"TrackBar\")\n",
    "    lv = cv2.getTrackbarPos(\"LV\",\"TrackBar\")\n",
    "    uh = cv2.getTrackbarPos(\"UH\",\"TrackBar\")\n",
    "    us = cv2.getTrackbarPos(\"US\",\"TrackBar\")\n",
    "    uv = cv2.getTrackbarPos(\"UV\",\"TrackBar\")    \n",
    "    \n",
    "    lower_blue = np.array([lh,ls,lv])\n",
    "    upper_blue = np.array([uh,us,uv])\n",
    "    \n",
    "    mask = cv2.inRange(hsv , lower_blue , upper_blue) #  sadece bu aralıktaki piksellerin beyaz (255), diğerlerinin siyah (0) olduğu bir maske oluşturur.\n",
    "    bitwise = cv2.bitwise_and(frame,frame , mask = mask)\n",
    "    \n",
    "    cv2.imshow(\"frame\" , frame)\n",
    "    cv2.imshow(\"mask\",mask)\n",
    "    cv2.imshow(\"bitwise\",bitwise)    \n",
    "        \n",
    "    if cv2.waitKey(20) & 0xFF ==ord(\"q\"):\n",
    "        break\n",
    "    \n",
    "vid.release()\n",
    "cv2.destroyAllWindows()    "
   ]
  },
  {
   "cell_type": "code",
   "execution_count": null,
   "metadata": {},
   "outputs": [],
   "source": []
  }
 ],
 "metadata": {
  "kernelspec": {
   "display_name": "Python 3",
   "language": "python",
   "name": "python3"
  },
  "language_info": {
   "codemirror_mode": {
    "name": "ipython",
    "version": 3
   },
   "file_extension": ".py",
   "mimetype": "text/x-python",
   "name": "python",
   "nbconvert_exporter": "python",
   "pygments_lexer": "ipython3",
   "version": "3.11.4"
  }
 },
 "nbformat": 4,
 "nbformat_minor": 2
}
