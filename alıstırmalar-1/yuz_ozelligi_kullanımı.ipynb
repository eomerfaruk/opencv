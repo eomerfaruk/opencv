{
 "cells": [
  {
   "cell_type": "code",
   "execution_count": 1,
   "metadata": {},
   "outputs": [],
   "source": [
    "import cv2 \n",
    "import numpy as np \n",
    "from matplotlib import pyplot as plt"
   ]
  },
  {
   "cell_type": "code",
   "execution_count": null,
   "metadata": {},
   "outputs": [],
   "source": [
    "def findMaxContour(contours):\n",
    "    max_i = 0 #max contouru veren indis\n",
    "    max_area = 0\n",
    "    \n",
    "    for i in  range(len(contours)): # alanları tek tek karsılastırıp max olanı bulucaz\n",
    "        \n",
    "        area_face = cv2.contoursArea(contours[i]) # gezilen contoursun alanları degişkene aktarılır\n",
    "        \n",
    "        if max_area < area_face:  # alınan contour  max_area dan büyükse\n",
    "            max_area = area_face # max_area değişkenine bu contour atanır\n",
    "            max_i = i # büyük olan contour atanır \n",
    "            \n",
    "        try:\n",
    "            \n",
    "            cnt = contours[max_i] # büyük olan contour atanır\n",
    "            \n",
    "        except: #eğer try bloğu gerceklesmesse  except kısmı gercekleşecektir\n",
    "            contours = [0]\n",
    "            c = contours[0]\n",
    "            \n",
    "    return cnt\n",
    "        "
   ]
  },
  {
   "cell_type": "code",
   "execution_count": null,
   "metadata": {},
   "outputs": [],
   "source": [
    "vid = cv2.VideoCapture(0)\n",
    "\n",
    "while 1:\n",
    "    \n",
    "    ret , frame = vid.read()\n",
    "    frame = cv2.flip(frame , 1)\n",
    "    \n",
    "    roi = frame[50:250 , 200:400]\n",
    "    cv2.rectangle(frame , (250,50) , (450,250) , (0,0,255) ,0) # frame[y1:y2,x1:x2]   \n",
    "    \n",
    "    # yüz kısmını diğer görüntülerden ayırmak için hsv'ye ceviricez\n",
    "    hsv = cv2.cvtColor(roi , cv2.COLOR_BGR2HSV)\n",
    "    \n",
    "    # yüz için belirlenen hsv  aralığı girilir\n",
    "    lower_color = np.array([0,45,79],dtype = np.uint8)\n",
    "    upper_color = np.array([17,255,255] , dtype=np.uint8)\n",
    "    \n",
    "    mask = cv2.inRange(hsv  ,lower_color , upper_color)\n",
    "    \n",
    "    # görüntümüzün içindeki benekleri kernel ile yok edeceğiz\n",
    "    kernel = np.ones((5,5) , np.uint8)\n",
    "    mask = cv2.dilate(mask , kernel , iteration = 1)\n",
    "    mask =  cv2.medianBlur(mask ,5) # median blurlama\n",
    "    \n",
    "    contours ,_ = cv2.findContours(mask,cv2.RETR_TREE,cv2.CHAIN_APPROX_SIMPLE)\n",
    "    \n",
    "    if len(contours) > 0:\n",
    "        # max contour değeri cekilir gürültüleri contour olarak almamak için\n",
    "        try :\n",
    "            c = findMaxContour(contours)\n",
    "            \n",
    "            # contour'un en uc  noktaları bulunur\n",
    "            extLeft = tuple(c[:,:,0].argmin()[0])\n",
    "            extRight = tuple(c[:,:,0].argmax()[0])\n",
    "            extTop = tuple(c[:,:,1].argmin()[0])\n",
    "            extBot = tuple(c[:,:,1].argmax()[0])\n",
    "            \n",
    "            cv2.circle(roi, extLeft,(0,255,0),2)\n",
    "            cv2.circle(roi, extRight,(0,255,0),2)\n",
    "            cv2.circle(roi, extTop,(0,255,0),2)\n",
    "            cv2.circle(roi, extBot,(0,255,0),2)\n",
    "            \n",
    "        except:\n",
    "            pass    \n",
    "    \n",
    "    cv2.imshow(\"frame\",frame)\n",
    "    if cv2.waitKey(0) & 0xFF == ord(\"q\"):\n",
    "        break\n",
    "vid.release()\n",
    "cv2.destroyAllWindows()"
   ]
  },
  {
   "cell_type": "code",
   "execution_count": null,
   "metadata": {},
   "outputs": [],
   "source": []
  }
 ],
 "metadata": {
  "kernelspec": {
   "display_name": "Python 3",
   "language": "python",
   "name": "python3"
  },
  "language_info": {
   "codemirror_mode": {
    "name": "ipython",
    "version": 3
   },
   "file_extension": ".py",
   "mimetype": "text/x-python",
   "name": "python",
   "nbconvert_exporter": "python",
   "pygments_lexer": "ipython3",
   "version": "3.11.4"
  }
 },
 "nbformat": 4,
 "nbformat_minor": 2
}
