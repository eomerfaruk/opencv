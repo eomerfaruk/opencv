{
 "cells": [
  {
   "cell_type": "code",
   "execution_count": 2,
   "metadata": {},
   "outputs": [],
   "source": [
    "import cv2 \n",
    "import numpy as np \n",
    "from matplotlib import pyplot as plt "
   ]
  },
  {
   "cell_type": "code",
   "execution_count": 3,
   "metadata": {},
   "outputs": [],
   "source": [
    "vid = cv2.VideoCapture(\"4.2 dog.mp4.mp4\")"
   ]
  },
  {
   "cell_type": "code",
   "execution_count": null,
   "metadata": {},
   "outputs": [],
   "source": [
    "while 1:\n",
    "    _ , frame = vid.read()\n",
    "    \n",
    "    hsv = cv2.cvtColor(frame ,cv2.COLOR_BGR2HSV ) # NESNELERİ İZİNİ SÜREBİLMEMİZ İÇİN HSV YE CEVİRİRİZ\n",
    "    sensivity = 15 #hassasiyet\n",
    "    \n",
    "    # beyaz için alt ve üst değerler oluşturulur\n",
    "    lower_white = np.array([0,0,250-sensivity]) \n",
    "    upper_white = np.array([255,sensivity,255])\n",
    "    \n",
    "    mask = cv2.inRange(hsv,lower_white , upper_white)\n",
    "    \n",
    "    res = cv2.bitwise_and(frame , frame,mask = mask)    \n",
    "\n",
    "    cv2.imshow(\"frame\" , frame)\n",
    "    cv2.imshow(\"mask\" , mask)\n",
    "    cv2.imshow(\"res\" , res)\n",
    "    \n",
    "    if cv2.waitKey(20) & 0xff == 27: # esc tusuna basınca pencereden cıkılıyo\n",
    "        break\n",
    "    \n",
    "vid.release()    \n",
    "cv2.destroyAllWindows()       \n",
    "    "
   ]
  },
  {
   "cell_type": "code",
   "execution_count": null,
   "metadata": {},
   "outputs": [],
   "source": []
  }
 ],
 "metadata": {
  "kernelspec": {
   "display_name": "Python 3",
   "language": "python",
   "name": "python3"
  },
  "language_info": {
   "codemirror_mode": {
    "name": "ipython",
    "version": 3
   },
   "file_extension": ".py",
   "mimetype": "text/x-python",
   "name": "python",
   "nbconvert_exporter": "python",
   "pygments_lexer": "ipython3",
   "version": "3.11.4"
  }
 },
 "nbformat": 4,
 "nbformat_minor": 2
}
