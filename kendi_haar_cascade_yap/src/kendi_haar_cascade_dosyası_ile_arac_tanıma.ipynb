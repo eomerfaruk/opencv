{
 "cells": [
  {
   "cell_type": "code",
   "execution_count": 14,
   "id": "eb15d8a3",
   "metadata": {},
   "outputs": [],
   "source": [
    "import cv2 \n",
    "import numpy as np \n",
    "from matplotlib import pyplot as plt \n",
    "import os"
   ]
  },
  {
   "cell_type": "code",
   "execution_count": 15,
   "id": "e2e7dd9b",
   "metadata": {},
   "outputs": [
    {
     "data": {
      "text/plain": [
       "< cv2.VideoCapture 000001BEB6B42D10>"
      ]
     },
     "execution_count": 15,
     "metadata": {},
     "output_type": "execute_result"
    }
   ],
   "source": [
    "vid = cv2.VideoCapture(\"D:\\\\Desktop\\\\opencv\\\\kendi_haar_cascade_yap\\\\input\\\\5.1 car.mp4 (1).mp4\")\n",
    "vid"
   ]
  },
  {
   "cell_type": "code",
   "execution_count": 16,
   "id": "bcfd2158",
   "metadata": {},
   "outputs": [
    {
     "data": {
      "text/plain": [
       "< cv2.CascadeClassifier 000001BEB6B42F50>"
      ]
     },
     "execution_count": 16,
     "metadata": {},
     "output_type": "execute_result"
    }
   ],
   "source": [
    "car_cascade = cv2.CascadeClassifier(\"D:\\\\Desktop\\\\opencv\\\\kendi_haar_cascade_yap\\\\input\\\\car_cascade\\\\classifier\\\\car_cascade.xml\")\n",
    "car_cascade"
   ]
  },
  {
   "cell_type": "code",
   "execution_count": 17,
   "id": "a0127286",
   "metadata": {},
   "outputs": [],
   "source": [
    "# Dosya adı ve tam yolu\n",
    "output_folder = \"D:\\\\Desktop\\\\opencv\\\\kendi_haar_cascade_yap\\\\output\"\n",
    "output_path = os.path.join(output_folder, \"output.mp4\")\n",
    "\n",
    "# Video özellikleri\n",
    "fourcc = cv2.VideoWriter_fourcc(*'XVID')\n",
    "fps = 20.0\n",
    "frame_size = (640, 480)\n",
    "\n",
    "# VideoWriter nesnesi\n",
    "out = cv2.VideoWriter(output_path, fourcc, fps, frame_size)"
   ]
  },
  {
   "cell_type": "code",
   "execution_count": 18,
   "id": "a503d708",
   "metadata": {},
   "outputs": [],
   "source": [
    "while 1:\n",
    "    ret , frame = vid.read()\n",
    "    frame = cv2.resize(frame , (640,480))\n",
    "    cars = car_cascade.detectMultiScale(gray , 1.2, 3)\n",
    "    gray = cv2.cvtColor(frame , cv2.COLOR_BGR2GRAY)\n",
    "    \n",
    "\n",
    "    \n",
    "    for (x,y,w,h) in cars:\n",
    "        cv2.rectangle(frame,(x,y),(x+w,y+h),(0,0,255),3)\n",
    "    \n",
    "    out.write(frame)\n",
    "        \n",
    "    cv2.imshow(\"img\", frame)\n",
    "    \n",
    "    if cv2.waitKey(5) & 0xFF == ord(\"q\"):\n",
    "        break\n",
    "    \n",
    "vid.release()    \n",
    "cv2.destroyAllWindows()    "
   ]
  },
  {
   "cell_type": "code",
   "execution_count": null,
   "id": "f900bfae",
   "metadata": {},
   "outputs": [],
   "source": []
  }
 ],
 "metadata": {
  "kernelspec": {
   "display_name": "Python 3",
   "language": "python",
   "name": "python3"
  },
  "language_info": {
   "codemirror_mode": {
    "name": "ipython",
    "version": 3
   },
   "file_extension": ".py",
   "mimetype": "text/x-python",
   "name": "python",
   "nbconvert_exporter": "python",
   "pygments_lexer": "ipython3",
   "version": "3.11.4"
  }
 },
 "nbformat": 4,
 "nbformat_minor": 5
}
