{
 "cells": [
  {
   "cell_type": "code",
   "execution_count": 2,
   "metadata": {},
   "outputs": [],
   "source": [
    "import cv2 \n",
    "import numpy as np \n",
    "from matplotlib import pyplot as plt "
   ]
  },
  {
   "cell_type": "code",
   "execution_count": 6,
   "metadata": {},
   "outputs": [
    {
     "name": "stdout",
     "output_type": "stream",
     "text": [
      "Görüntü kaydedildi: output.jpg\n",
      "Görüntü kaydedildi: output.jpg\n",
      "Görüntü kaydedildi: output.jpg\n",
      "Görüntü kaydedildi: output.jpg\n"
     ]
    }
   ],
   "source": [
    "vid = cv2.VideoCapture(\"5.1 car.mp4 (1).mp4\")\n",
    "\n",
    "while 1:\n",
    "    \n",
    "    _ , frame =  vid.read()\n",
    "    \n",
    "    cv2.imshow(\"Video\", frame)\n",
    "   \n",
    "    cv2.imwrite(\"output.jpg\",frame)\n",
    "   \n",
    "    key = cv2.waitKey(1) & 0xFF  # Tuş girişini kontrol et\n",
    "\n",
    "    if key == ord(\"s\"):  # 's' tuşuna basılırsa görüntüyü kaydet\n",
    "        cv2.imwrite(\"output.jpg\", frame)\n",
    "        print(\"Görüntü kaydedildi: output.jpg\")\n",
    "\n",
    "    elif key == ord(\"q\"):  # 'q' tuşuna basılırsa çık\n",
    "        break\n",
    "    \n",
    "vid.release()\n",
    "cv2.destroyAllWindows()            "
   ]
  },
  {
   "cell_type": "code",
   "execution_count": null,
   "metadata": {},
   "outputs": [],
   "source": []
  }
 ],
 "metadata": {
  "kernelspec": {
   "display_name": "Python 3",
   "language": "python",
   "name": "python3"
  },
  "language_info": {
   "codemirror_mode": {
    "name": "ipython",
    "version": 3
   },
   "file_extension": ".py",
   "mimetype": "text/x-python",
   "name": "python",
   "nbconvert_exporter": "python",
   "pygments_lexer": "ipython3",
   "version": "3.11.4"
  }
 },
 "nbformat": 4,
 "nbformat_minor": 2
}
