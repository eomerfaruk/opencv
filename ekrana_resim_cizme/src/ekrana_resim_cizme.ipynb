{
 "cells": [
  {
   "cell_type": "code",
   "execution_count": 1,
   "id": "1cc05c07",
   "metadata": {},
   "outputs": [],
   "source": [
    "import cv2\n",
    "import numpy as np\n",
    "from collections import deque #bu fonksiyon sayesinde listeleme işlemi yapar"
   ]
  },
  {
   "cell_type": "code",
   "execution_count": 2,
   "id": "066ffb27",
   "metadata": {},
   "outputs": [],
   "source": [
    "vid = cv2.VideoCapture(0)"
   ]
  },
  {
   "cell_type": "code",
   "execution_count": 3,
   "id": "00a733ab",
   "metadata": {},
   "outputs": [],
   "source": [
    "kernel = np.ones((5,5) , np.uint8)"
   ]
  },
  {
   "cell_type": "code",
   "execution_count": 4,
   "id": "85dd9ff7",
   "metadata": {},
   "outputs": [],
   "source": [
    "lower_blue = np.array([100,60,60])\n",
    "upper_blue = np.array([140,255,255])"
   ]
  },
  {
   "cell_type": "code",
   "execution_count": 5,
   "id": "38ddc9dc",
   "metadata": {},
   "outputs": [],
   "source": [
    "blue_points = [deque(maxlen = 512)] # mavi noktaları saklıcaz\n",
    "green_points = [deque(maxlen = 512)] # mavi noktaları saklıcaz\n",
    "red_points = [deque(maxlen = 512)] # mavi noktaları saklıcaz\n",
    "yellow_points = [deque(maxlen = 512)] # mavi noktaları saklıcaz\n",
    "\n"
   ]
  },
  {
   "cell_type": "code",
   "execution_count": 6,
   "id": "0a9159a7",
   "metadata": {},
   "outputs": [
    {
     "data": {
      "text/plain": [
       "[deque([], maxlen=512)]"
      ]
     },
     "execution_count": 6,
     "metadata": {},
     "output_type": "execute_result"
    }
   ],
   "source": [
    "blue_points"
   ]
  },
  {
   "cell_type": "code",
   "execution_count": 7,
   "id": "5705fa89",
   "metadata": {},
   "outputs": [],
   "source": [
    "# renklerin index değerleri\n",
    "blue_index = 0\n",
    "green_index = 0\n",
    "red_index = 0\n",
    "yellow_index = 0"
   ]
  },
  {
   "cell_type": "code",
   "execution_count": null,
   "id": "75a9557c",
   "metadata": {},
   "outputs": [],
   "source": [
    "color = [(255,0,0),(0,255,0),(0,0,255),(0,255,255)] # renk değerleri listesi\n",
    "color_index = 0\n",
    "paintWindow = np.zeros((471,636,3)) +255 # cizim yapılacak pencereyi beyaz ve 3 kanallı yaptık\n",
    "\n",
    "# paintwindow numpy değişkenine cizim için kutu olusturulur\n",
    "paintWindow = cv2.rectangle(paintWindow(40,1),(140,65),(0,0,0),2)\n",
    "paintWindow = cv2.rectangle(paintWindow(160,1),(255,65),color[0],-1)\n",
    "paintWindow = cv2.rectangle(paintWindow(275,1),(370,65),color[1],-1) \n",
    "paintWindow = cv2.rectangle(paintWindow(40,1),(485,65),color[2],-1) \n",
    "paintWindow = cv2.rectangle(paintWindow(505,1),(600,65),color[3],-1)\n",
    "\n",
    "font = cv2.FONT_HERSHEY_SIMPLEX\n",
    "#paintwindow penceresindeki kutuların içine yazı yazılır\n",
    "cv2.putText(paintWindow,\"CLEAR ALL\",(49,33),font,0.5,(0,0,0),2,cv2.LINE_AA)\n",
    "cv2.putText(paintWindow,\"BLUE\",(185,33),font,0.5,(255,255,255),2,cv2.LINE_AA)\n",
    "cv2.putText(paintWindow,\"GREEN\",(298,33),font,0.5,(255,255,255),2,cv2.LINE_AA)\n",
    "cv2.putText(paintWindow,\"RED\",(420,33),font,0.5,(255,255,255),2,cv2.LINE_AA)\n",
    "cv2.putText(paintWindow,\"YELLOW\",(520,33),font,0.5,(255,255,255),2,cv2.LINE_AA)\n",
    "\n",
    "cv2.namedWindow(\"Paint\")\n",
    "\n",
    "\n",
    "\n",
    "while 1:\n",
    "    \n",
    "    ret , frame = vid.read()\n",
    "    frame = cv2.flip(frame , 1)\n",
    "    \n",
    "    hsv = cv2.cvtColor(frame,cv2.COLOR_BGR2HSV)\n",
    "    #oluaturulan framelerde kutu cizimi \n",
    "    frame = cv2.rectangle(frame,(40,1),(140,65),(0,0,0),2)\n",
    "    frame = cv2.rectangle(frame,(160,1),(255,65),color[0],-1)\n",
    "    frame = cv2.rectangle(frame,(275,1),(370,65),color[1],-1)\n",
    "    frame = cv2.rectangle(frame,(390,1),(485,65),color[2],-1)\n",
    "    frame = cv2.rectangle(frame,(505,1),(600,65),color[3],-1)\n",
    "    \n",
    "    font = cv2.FONT_HERSHEY_SIMPLEX # yazı fontu tanımlanır \n",
    "    #kutuların  içine yazı yazma\n",
    "    cv2.putText(frame,\"CLEAR ALL\",(49,33),font,0.5,(0,0,0),2,cv2.LINE_AA)\n",
    "    cv2.putText(frame,\"BLUE\",(185,33),font,0.5,(255,255,255),2,cv2.LINE_AA)\n",
    "    cv2.putText(frame,\"GREEN\",(298,33),font,0.5,(255,255,255),2,cv2.LINE_AA)\n",
    "    cv2.putText(frame,\"RED\",(420,33),font,0.5,(255,255,255),2,cv2.LINE_AA)\n",
    "    cv2.putText(frame,\"YELLOW\",(520,33),font,0.5,(255,255,255),2,cv2.LINE_AA)\n",
    "\n",
    "    if ret is False:\n",
    "        break\n",
    "\n",
    "    mask = cv2.inRange(hsv,lower_blue,upper_blue)\n",
    "\n",
    "    mask = cv2.erode(mask,(5,5),iterations =2) #  mask kısma erozyon uygulama\n",
    "    mask = cv2.morphologyEx(mask,cv2.MORPH_OPEN,(5,5))\n",
    "    mask = cv2.dilate(mask,(5,5),iterations = 1)\n",
    "\n",
    "    contours,_ =cv2.findContours(mask,cv2.RETR_TREE,cv2.CHAIN_APPROX_SIMPLE) #görüntüdekikontourlar bulunur\n",
    "    center = None\n",
    "    if len(contours) > 0:\n",
    "        max_contours = sorted(contours, key = cv2.contourArea, reverse=True)[0] # en buyuk alana sahip olan contour alınır\n",
    "        ((x,y),radius) = cv2.minEnclosingCircle(max_contours)\n",
    "        cv2.circle(frame,(int(x),int(y)),int(radius),(255,255,0),3)\n",
    "\n",
    "        M = cv2.moments(max_contours)\n",
    "        center = (int(M[\"m10\"]/M[\"m00\"]),int(M[\"m01\"]/M[\"m00\"]))\n",
    "\n",
    "        if center[1] <= 65:\n",
    "            if 40<=center[0]<=140:\n",
    "\n",
    "                blue_points = [deque(maxlen=512)]\n",
    "                green_points = [deque(maxlen=512)]\n",
    "                red_points = [deque(maxlen=512)]\n",
    "                yellow_points = [deque(maxlen=512)]\n",
    "\n",
    "                blue_index=0\n",
    "                green_index=0\n",
    "                red_index=0\n",
    "                yellow_index=0\n",
    "\n",
    "                paintWindow[67:,:,:]=255\n",
    "\n",
    "            elif 160<=center[0]<=255:\n",
    "                color_index = 0\n",
    "\n",
    "            elif 275<=center[0]<=370:\n",
    "                color_index = 1\n",
    "\n",
    "            elif 390<=center[0]<=485:\n",
    "                color_index = 2\n",
    "\n",
    "            elif 505<=center[0]<=600:\n",
    "                color_index = 3\n",
    "\n",
    "        else:\n",
    "            if color_index == 0:\n",
    "                blue_points[blue_index].appendleft(center)\n",
    "                \n",
    "            elif color_index == 1:    \n",
    "                green_points[green_index].appendleft(center)\n",
    "                \n",
    "            elif color_index == 2:\n",
    "                red_points[red_index].appendleft(center)\n",
    "                \n",
    "            elif color_index == 3:\n",
    "                yellow_points[yellow_index].appendleft(center)\n",
    "\n",
    "    else:\n",
    "        blue_points.append(deque(maxlen=512))\n",
    "        blue_index+=1\n",
    "        \n",
    "        green_points.append(deque(maxlen=512))\n",
    "        green_index+=1\n",
    "        \n",
    "        red_points.append(deque(maxlen=512))\n",
    "        red_index+=1\n",
    "        \n",
    "        yellow_points.append(deque(maxlen=512))\n",
    "        yellow_index+=1\n",
    "\n",
    "    points = [blue_points,green_points,red_points,yellow_points]\n",
    "    \n",
    "    for i in range(len(points)):\n",
    "        for j in range(len(points[i])):\n",
    "            for k in range(1,len(points[i][j])):\n",
    "                if points[i][j][k-1] is None or points[i][j][k] is None:\n",
    "                    continue\n",
    "                \n",
    "                cv2.line(frame,points[i][j][k-1], points[i][j][k], color[i], 2)\n",
    "                cv2.line(paintWindow,points[i][j][k-1], points[i][j][k], color[i], 2)\n",
    "    \n",
    "    cv2.imshow(\"frame\",frame)\n",
    "    cv2.imshow(\"paintwindow\",paintWindow)\n",
    "    \n",
    "    if cv2.waitKey(3) & 0xFF == ord(\"q\"):\n",
    "        break\n",
    "    \n",
    "vid.release()\n",
    "cv2.destroyAllWindows()    \n"
   ]
  }
 ],
 "metadata": {
  "kernelspec": {
   "display_name": "Python 3",
   "language": "python",
   "name": "python3"
  },
  "language_info": {
   "codemirror_mode": {
    "name": "ipython",
    "version": 3
   },
   "file_extension": ".py",
   "mimetype": "text/x-python",
   "name": "python",
   "nbconvert_exporter": "python",
   "pygments_lexer": "ipython3",
   "version": "3.11.4"
  }
 },
 "nbformat": 4,
 "nbformat_minor": 5
}
