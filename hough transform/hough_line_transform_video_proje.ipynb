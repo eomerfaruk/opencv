{
 "cells": [
  {
   "cell_type": "code",
   "execution_count": 1,
   "metadata": {},
   "outputs": [],
   "source": [
    "import cv2 \n",
    "import numpy as np \n",
    "from matplotlib import pyplot as plt"
   ]
  },
  {
   "cell_type": "code",
   "execution_count": 2,
   "metadata": {},
   "outputs": [],
   "source": [
    "vid = cv2.VideoCapture(\"4.2 line.mp4.mp4\")"
   ]
  },
  {
   "cell_type": "code",
   "execution_count": 4,
   "metadata": {},
   "outputs": [],
   "source": [
    "while True:\n",
    "    ret , frame = vid.read()\n",
    "    frame = cv2.resize(frame , (640,480))\n",
    "    hsv  = cv2.cvtColor(frame , cv2.COLOR_BGR2HSV)\n",
    "    # alt ve ust sarı değerleri girilir\n",
    "    lower_yellow = np.array([18 , 94,140] ,np.uint8) \n",
    "    upper_yellow = np.array([48,255,255] , np.uint8)\n",
    "    #sarı cizgileri ayırdık \n",
    "    mask = cv2.inRange(hsv , lower_yellow , upper_yellow) \n",
    "\n",
    "    edges = cv2.Canny(mask ,75 ,250) # cizgilerin köşeleri bulunur\n",
    "\n",
    "    lines = cv2.HoughLinesP(edges , 1,np.pi/180,50,maxLineGap=50) # frame deki cizgiler bulnunur\n",
    "    \n",
    "    for line in lines :\n",
    "        x1,y1,x2,y2 = line[0] # tek parantezli hale getirip listedeki 4 değer atanır\n",
    "        cv2.line(frame , (x1,y1),(x2,y2) , (0,255,0) ,2)\n",
    "    \n",
    "    cv2.imshow(\"img\" , frame)\n",
    "    \n",
    "    if cv2.waitKey(20) & 0xFF == ord(\"q\"):\n",
    "        break    \n",
    "    \n",
    "vid.release()\n",
    "cv2.destroyAllWindows()    \n",
    "    "
   ]
  },
  {
   "cell_type": "code",
   "execution_count": null,
   "metadata": {},
   "outputs": [],
   "source": []
  }
 ],
 "metadata": {
  "kernelspec": {
   "display_name": "Python 3",
   "language": "python",
   "name": "python3"
  },
  "language_info": {
   "codemirror_mode": {
    "name": "ipython",
    "version": 3
   },
   "file_extension": ".py",
   "mimetype": "text/x-python",
   "name": "python",
   "nbconvert_exporter": "python",
   "pygments_lexer": "ipython3",
   "version": "3.11.4"
  }
 },
 "nbformat": 4,
 "nbformat_minor": 2
}
